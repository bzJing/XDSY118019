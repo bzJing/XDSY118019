{
 "cells": [
  {
   "cell_type": "code",
   "execution_count": null,
   "id": "3ed7e13f-5467-4b0b-be41-8c6c472c3659",
   "metadata": {},
   "outputs": [],
   "source": [
    "import numpy as np\n",
    "\n",
    "def test_format_number():\n",
    "    \n",
    "    test_cases = [\n",
    "        {\"input\": (1.414,), \"expected\": \"1.414\"},\n",
    "        {\"input\": (-1.414,), \"expected\": \"-1.414\"},\n",
    "        {\"input\": (1.414, 2), \"expected\": \"1.41\"},\n",
    "        {\"input\": (123.456, -2), \"expected\": \"100.0\"},\n",
    "        {\"input\": (1.414, 0, [1, 2, 3]), \"expected\": \"1.414\"}, \n",
    "        # Assuming 1.414 meets last_digit requirement\n",
    "      \n",
    "    ]\n",
    "\n",
    "    for case in test_cases:\n",
    "        result = format_number(*case[\"input\"])\n",
    "        assert result == case[\"expected\"], f\"Test failed for input {case['input']}: expected {case['expected']}, got {result}\"\n",
    "\n",
    "    return \"All tests passed!\"\n",
    "\n",
    "\n"
   ]
  },
  {
   "cell_type": "code",
   "execution_count": null,
   "id": "e0f6b908-ad1e-4100-96ca-719373e54cb5",
   "metadata": {},
   "outputs": [],
   "source": [
    "def solve_linear_equations():\n",
    "    # Coefficients matrix A and constant matrix B for the given linear equations\n",
    "    A = np.array([\n",
    "        [-3, 0, 5, 0, 1],\n",
    "        [4, -1, 3, -2, 9],\n",
    "        [0, 3, 2, -5, 0],\n",
    "        [0, 0, -4, 7, 4],\n",
    "        [9, 8, 7, 6, 5]\n",
    "    ])\n",
    "    B = np.array([1, 2, 3, 4, 5])\n",
    "\n",
    "    # Solve the linear equations\n",
    "    x = np.linalg.solve(A, B)\n",
    "    return x\n",
    "\n",
    "# Running the test function for format_number (this is a placeholder as the actual function implementation is not provided)\n",
    "test_result = test_format_number()\n",
    "\n",
    "# Solving the linear equation system\n",
    "solution = solve_linear_equations()\n",
    "\n",
    "test_result, solution\n"
   ]
  },
  {
   "cell_type": "code",
   "execution_count": null,
   "id": "c1360e2e-62a4-4cf9-8f2d-42dcb04db7a2",
   "metadata": {},
   "outputs": [],
   "source": [
    "% 定义 u 和 v 的范围\n",
    "u = linspace(0, 2*pi, 100);\n",
    "v = linspace(0, 2*pi, 100);\n",
    "\n",
    "% 生成网格数据\n",
    "[U, V] = meshgrid(u, v);\n",
    "\n",
    "% 定义 x(u, v) 和 y(u, v)\n",
    "X = cos(V) .* (6 - (5/4 + sin(3*U)) .* sin(U - 3*V));\n",
    "Y = sin(V) .* (6 - (5/4 + sin(3*U)) .* sin(U - 3*V));\n",
    "\n",
    "% 定义 z = f(x, y)\n",
    "Z = -cos(U - 3*V) .* (5/4 + sin(3*U));\n",
    "\n",
    "% 绘制曲面图\n",
    "surf(X, Y, Z);\n"
   ]
  },
  {
   "cell_type": "code",
   "execution_count": null,
   "id": "b29d155f-58ac-4593-a24b-6963952520d7",
   "metadata": {
    "tags": []
   },
   "outputs": [],
   "source": [
    "#In Mathematica ,we can directly use the function ' Zeta ' to get the values of  ζ for some given numbers\n",
    "zeta_Values = Table[Zeta[s], {s, 2, 10, 2}]\n"
   ]
  },
  {
   "cell_type": "markdown",
   "id": "ba49c87a-241a-48fa-a4d7-fa2504abeb53",
   "metadata": {},
   "source": [
    "# The Riemann zeta function\n",
    "\n",
    "The **Riemann zeta function** or **Euler–Riemann zeta function**, denoted by the Greek letter $\\zeta$ (zeta), is a mathematical function of a complex variable $s = \\sigma + it$ defined as\n",
    "\n",
    "$$\n",
    "\\zeta(s) = \\sum_{n=1}^{\\infty} \\frac{1}{n^s}\n",
    "$$\n",
    "\n",
    "for $\\text{Re}(s) > 1$ and its analytic continuation elsewhere. When $\\text{Re}(s) = \\sigma > 1$, the function can be written as a converging summation or integral:\n",
    "\n",
    "$$\n",
    "\\zeta(s) = \\sum_{n=1}^{\\infty} \\frac{1}{n^s} = \\frac{1}{\\Gamma(s)} \\int_0^{\\infty} \\frac{x^{s-1}}{e^x - 1} \\,dx\n",
    "$$\n",
    "\n",
    "where $\\Gamma(s)$ is the gamma function.\n",
    "\n",
    "In 1737, the connection between the zeta function and prime numbers was discovered by Euler, who proved the identity\n",
    "\n",
    "$$\n",
    "\\zeta(s) = \\prod_{p\\ \\text{prime}} \\frac{1}{1 - p^{-s}}\n",
    "$$\n",
    "\n",
    "where, by definition, the left-hand side is $\\zeta(s)$ and the infinite product on the right-hand side extends over all prime numbers (such expressions are called Euler products). Both sides of the Euler product formula converge for $\\text{Re}(s) > 1$.\n"
   ]
  },
  {
   "cell_type": "code",
   "execution_count": null,
   "id": "559d94ee-5f7f-4d29-a1d3-695b05308575",
   "metadata": {},
   "outputs": [],
   "source": []
  }
 ],
 "metadata": {
  "kernelspec": {
   "display_name": "Python 3 (ipykernel)",
   "language": "python",
   "name": "python3"
  },
  "language_info": {
   "codemirror_mode": {
    "name": "ipython",
    "version": 3
   },
   "file_extension": ".py",
   "mimetype": "text/x-python",
   "name": "python",
   "nbconvert_exporter": "python",
   "pygments_lexer": "ipython3",
   "version": "3.11.4"
  }
 },
 "nbformat": 4,
 "nbformat_minor": 5
}
